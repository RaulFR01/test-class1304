{
 "cells": [
  {
   "cell_type": "code",
   "execution_count": 3,
   "id": "8db6c329",
   "metadata": {},
   "outputs": [
    {
     "name": "stdout",
     "output_type": "stream",
     "text": [
      "Positive Keywords: ['excellent', 'love', 'superb']\n",
      "Negative Keywords: ['disappointing']\n"
     ]
    }
   ],
   "source": [
    "# List of feedback comments\n",
    "feedback_comments = [\n",
    "    \"The service was excellent and I love the product!\",\n",
    "    \"The quality of the item was great.\",\n",
    "    \"Unfortunately, the package arrived damaged.\",\n",
    "    \"I had a superb experience with your company.\",\n",
    "    \"The product was disappointing and terrible.\",\n",
    "]\n",
    "\n",
    "# List of positive and negative keywords\n",
    "positive_words = [\"excellent\", \"love\", \"great\", \"superb\"]\n",
    "negative_words = [\"terrible\", \"disappointing\", \"damaged\"]\n",
    "\n",
    "# Extract positive keywords using list comprehension\n",
    "positive_keywords = [word for comment in feedback_comments for word in comment.lower().split() if word in positive_words]\n",
    "\n",
    "# Extract negative keywords using list comprehension\n",
    "negative_keywords = [word for comment in feedback_comments for word in comment.lower().split() if word in negative_words]\n",
    "\n",
    "# Display the extracted keywords\n",
    "print(\"Positive Keywords:\", positive_keywords)\n",
    "print(\"Negative Keywords:\", negative_keywords)"
   ]
  },
  {
   "cell_type": "code",
   "execution_count": null,
   "id": "bd41e8c4",
   "metadata": {},
   "outputs": [],
   "source": []
  }
 ],
 "metadata": {
  "kernelspec": {
   "display_name": "Python 3 (ipykernel)",
   "language": "python",
   "name": "python3"
  },
  "language_info": {
   "codemirror_mode": {
    "name": "ipython",
    "version": 3
   },
   "file_extension": ".py",
   "mimetype": "text/x-python",
   "name": "python",
   "nbconvert_exporter": "python",
   "pygments_lexer": "ipython3",
   "version": "3.11.3"
  }
 },
 "nbformat": 4,
 "nbformat_minor": 5
}
